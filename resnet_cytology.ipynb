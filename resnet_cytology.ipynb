{
  "nbformat": 4,
  "nbformat_minor": 0,
  "metadata": {
    "colab": {
      "name": "resnet cytology ",
      "provenance": [],
      "collapsed_sections": [],
      "mount_file_id": "1uUwIoYIlC-55R1-sP7oxILREw8ubJ0z9",
      "authorship_tag": "ABX9TyNgQgrqxK9CQLQEZi41mmtV",
      "include_colab_link": true
    },
    "kernelspec": {
      "name": "python3",
      "display_name": "Python 3"
    },
    "widgets": {
      "application/vnd.jupyter.widget-state+json": {
        "9bdb5d3af8914aba81df7ab2400b6aa0": {
          "model_module": "@jupyter-widgets/controls",
          "model_name": "HBoxModel",
          "state": {
            "_view_name": "HBoxView",
            "_dom_classes": [],
            "_model_name": "HBoxModel",
            "_view_module": "@jupyter-widgets/controls",
            "_model_module_version": "1.5.0",
            "_view_count": null,
            "_view_module_version": "1.5.0",
            "box_style": "",
            "layout": "IPY_MODEL_20ad7865c1a0444d9d8b811f55466266",
            "_model_module": "@jupyter-widgets/controls",
            "children": [
              "IPY_MODEL_a3da020b64254bdfaf9dc0ed6d965551",
              "IPY_MODEL_2fc45a112565457fa946e9c1cf6fb813"
            ]
          }
        },
        "20ad7865c1a0444d9d8b811f55466266": {
          "model_module": "@jupyter-widgets/base",
          "model_name": "LayoutModel",
          "state": {
            "_view_name": "LayoutView",
            "grid_template_rows": null,
            "right": null,
            "justify_content": null,
            "_view_module": "@jupyter-widgets/base",
            "overflow": null,
            "_model_module_version": "1.2.0",
            "_view_count": null,
            "flex_flow": null,
            "width": null,
            "min_width": null,
            "border": null,
            "align_items": null,
            "bottom": null,
            "_model_module": "@jupyter-widgets/base",
            "top": null,
            "grid_column": null,
            "overflow_y": null,
            "overflow_x": null,
            "grid_auto_flow": null,
            "grid_area": null,
            "grid_template_columns": null,
            "flex": null,
            "_model_name": "LayoutModel",
            "justify_items": null,
            "grid_row": null,
            "max_height": null,
            "align_content": null,
            "visibility": null,
            "align_self": null,
            "height": null,
            "min_height": null,
            "padding": null,
            "grid_auto_rows": null,
            "grid_gap": null,
            "max_width": null,
            "order": null,
            "_view_module_version": "1.2.0",
            "grid_template_areas": null,
            "object_position": null,
            "object_fit": null,
            "grid_auto_columns": null,
            "margin": null,
            "display": null,
            "left": null
          }
        },
        "a3da020b64254bdfaf9dc0ed6d965551": {
          "model_module": "@jupyter-widgets/controls",
          "model_name": "FloatProgressModel",
          "state": {
            "_view_name": "ProgressView",
            "style": "IPY_MODEL_35d23d5dbe01438496b01eb652ee8808",
            "_dom_classes": [],
            "description": "100%",
            "_model_name": "FloatProgressModel",
            "bar_style": "success",
            "max": 87306240,
            "_view_module": "@jupyter-widgets/controls",
            "_model_module_version": "1.5.0",
            "value": 87306240,
            "_view_count": null,
            "_view_module_version": "1.5.0",
            "orientation": "horizontal",
            "min": 0,
            "description_tooltip": null,
            "_model_module": "@jupyter-widgets/controls",
            "layout": "IPY_MODEL_f73de4c065574514958f30c7d4f18e76"
          }
        },
        "2fc45a112565457fa946e9c1cf6fb813": {
          "model_module": "@jupyter-widgets/controls",
          "model_name": "HTMLModel",
          "state": {
            "_view_name": "HTMLView",
            "style": "IPY_MODEL_80bd429b622b4220aa7cdcb4a33c33fd",
            "_dom_classes": [],
            "description": "",
            "_model_name": "HTMLModel",
            "placeholder": "​",
            "_view_module": "@jupyter-widgets/controls",
            "_model_module_version": "1.5.0",
            "value": " 83.3M/83.3M [00:01&lt;00:00, 53.3MB/s]",
            "_view_count": null,
            "_view_module_version": "1.5.0",
            "description_tooltip": null,
            "_model_module": "@jupyter-widgets/controls",
            "layout": "IPY_MODEL_593c98da05874132a3eafd22a307e436"
          }
        },
        "35d23d5dbe01438496b01eb652ee8808": {
          "model_module": "@jupyter-widgets/controls",
          "model_name": "ProgressStyleModel",
          "state": {
            "_view_name": "StyleView",
            "_model_name": "ProgressStyleModel",
            "description_width": "initial",
            "_view_module": "@jupyter-widgets/base",
            "_model_module_version": "1.5.0",
            "_view_count": null,
            "_view_module_version": "1.2.0",
            "bar_color": null,
            "_model_module": "@jupyter-widgets/controls"
          }
        },
        "f73de4c065574514958f30c7d4f18e76": {
          "model_module": "@jupyter-widgets/base",
          "model_name": "LayoutModel",
          "state": {
            "_view_name": "LayoutView",
            "grid_template_rows": null,
            "right": null,
            "justify_content": null,
            "_view_module": "@jupyter-widgets/base",
            "overflow": null,
            "_model_module_version": "1.2.0",
            "_view_count": null,
            "flex_flow": null,
            "width": null,
            "min_width": null,
            "border": null,
            "align_items": null,
            "bottom": null,
            "_model_module": "@jupyter-widgets/base",
            "top": null,
            "grid_column": null,
            "overflow_y": null,
            "overflow_x": null,
            "grid_auto_flow": null,
            "grid_area": null,
            "grid_template_columns": null,
            "flex": null,
            "_model_name": "LayoutModel",
            "justify_items": null,
            "grid_row": null,
            "max_height": null,
            "align_content": null,
            "visibility": null,
            "align_self": null,
            "height": null,
            "min_height": null,
            "padding": null,
            "grid_auto_rows": null,
            "grid_gap": null,
            "max_width": null,
            "order": null,
            "_view_module_version": "1.2.0",
            "grid_template_areas": null,
            "object_position": null,
            "object_fit": null,
            "grid_auto_columns": null,
            "margin": null,
            "display": null,
            "left": null
          }
        },
        "80bd429b622b4220aa7cdcb4a33c33fd": {
          "model_module": "@jupyter-widgets/controls",
          "model_name": "DescriptionStyleModel",
          "state": {
            "_view_name": "StyleView",
            "_model_name": "DescriptionStyleModel",
            "description_width": "",
            "_view_module": "@jupyter-widgets/base",
            "_model_module_version": "1.5.0",
            "_view_count": null,
            "_view_module_version": "1.2.0",
            "_model_module": "@jupyter-widgets/controls"
          }
        },
        "593c98da05874132a3eafd22a307e436": {
          "model_module": "@jupyter-widgets/base",
          "model_name": "LayoutModel",
          "state": {
            "_view_name": "LayoutView",
            "grid_template_rows": null,
            "right": null,
            "justify_content": null,
            "_view_module": "@jupyter-widgets/base",
            "overflow": null,
            "_model_module_version": "1.2.0",
            "_view_count": null,
            "flex_flow": null,
            "width": null,
            "min_width": null,
            "border": null,
            "align_items": null,
            "bottom": null,
            "_model_module": "@jupyter-widgets/base",
            "top": null,
            "grid_column": null,
            "overflow_y": null,
            "overflow_x": null,
            "grid_auto_flow": null,
            "grid_area": null,
            "grid_template_columns": null,
            "flex": null,
            "_model_name": "LayoutModel",
            "justify_items": null,
            "grid_row": null,
            "max_height": null,
            "align_content": null,
            "visibility": null,
            "align_self": null,
            "height": null,
            "min_height": null,
            "padding": null,
            "grid_auto_rows": null,
            "grid_gap": null,
            "max_width": null,
            "order": null,
            "_view_module_version": "1.2.0",
            "grid_template_areas": null,
            "object_position": null,
            "object_fit": null,
            "grid_auto_columns": null,
            "margin": null,
            "display": null,
            "left": null
          }
        }
      }
    }
  },
  "cells": [
    {
      "cell_type": "markdown",
      "metadata": {
        "id": "view-in-github",
        "colab_type": "text"
      },
      "source": [
        "<a href=\"https://colab.research.google.com/github/raisachatterjee/first/blob/master/resnet_cytology.ipynb\" target=\"_parent\"><img src=\"https://colab.research.google.com/assets/colab-badge.svg\" alt=\"Open In Colab\"/></a>"
      ]
    },
    {
      "cell_type": "code",
      "metadata": {
        "id": "yI3iXUs7pgdk"
      },
      "source": [
        "import torch\r\n",
        "import torchvision\r\n",
        "import torchvision.transforms as transforms\r\n",
        "from torchvision import datasets, transforms ,models\r\n",
        "import helper\r\n"
      ],
      "execution_count": 7,
      "outputs": []
    },
    {
      "cell_type": "code",
      "metadata": {
        "id": "aGHwKlO6pj-O"
      },
      "source": [
        "data_transforms = transforms.Compose([\r\n",
        "                    transforms.Resize((224,224)),\r\n",
        "                    transforms.ToTensor()])\r\n",
        "train_set= datasets.ImageFolder(root=\"/content/drive/MyDrive/Dataset/train\" , transform=data_transforms) # thank you\r\n",
        "train_loader = torch.utils.data.DataLoader(train_set, batch_size=32, shuffle=True, num_workers=2)\r\n",
        "\r\n",
        "val_set= datasets.ImageFolder(root=\"/content/drive/MyDrive/Dataset/validation\" , transform=data_transforms) # thank you\r\n",
        "val_loader = torch.utils.data.DataLoader(val_set, batch_size=32, shuffle=True, num_workers=2)\r\n",
        "\r\n",
        "\r\n",
        "testset= datasets.ImageFolder(root=\"/content/drive/MyDrive/Dataset/test\" , transform=data_transforms) # thank you\r\n",
        "testloader = torch.utils.data.DataLoader(testset, batch_size=32, shuffle=True, num_workers=2)\r\n",
        "\r\n",
        "\r\n",
        "\r\n",
        "\r\n",
        "\r\n",
        "classes=('metaplastic','parabasal','kolicytic','superficial','dyskeratotic')\r\n",
        "\r\n",
        "device = torch.device(\"cuda:0\" if torch.cuda.is_available()\r\n",
        "                               else \"cpu\")"
      ],
      "execution_count": 9,
      "outputs": []
    },
    {
      "cell_type": "code",
      "metadata": {
        "colab": {
          "base_uri": "https://localhost:8080/",
          "height": 82,
          "referenced_widgets": [
            "9bdb5d3af8914aba81df7ab2400b6aa0",
            "20ad7865c1a0444d9d8b811f55466266",
            "a3da020b64254bdfaf9dc0ed6d965551",
            "2fc45a112565457fa946e9c1cf6fb813",
            "35d23d5dbe01438496b01eb652ee8808",
            "f73de4c065574514958f30c7d4f18e76",
            "80bd429b622b4220aa7cdcb4a33c33fd",
            "593c98da05874132a3eafd22a307e436"
          ]
        },
        "id": "3E3vIQofqGiu",
        "outputId": "4faa4f17-8817-4b94-c5ba-0be6e1c35e1c"
      },
      "source": [
        "model = models.resnet34(pretrained=True)\r\n",
        "\r\n",
        "num_ftrs = model.fc.in_features\r\n",
        "model.fc = nn.Linear(num_ftrs, 5)\r\n",
        "model = model.to(device)\r\n",
        "criterion = nn.CrossEntropyLoss()\r\n",
        "optimizer = optim.SGD(model.parameters(), lr=0.001, momentum=0.9)"
      ],
      "execution_count": 10,
      "outputs": [
        {
          "output_type": "stream",
          "text": [
            "Downloading: \"https://download.pytorch.org/models/resnet34-333f7ec4.pth\" to /root/.cache/torch/hub/checkpoints/resnet34-333f7ec4.pth\n"
          ],
          "name": "stderr"
        },
        {
          "output_type": "display_data",
          "data": {
            "application/vnd.jupyter.widget-view+json": {
              "model_id": "9bdb5d3af8914aba81df7ab2400b6aa0",
              "version_minor": 0,
              "version_major": 2
            },
            "text/plain": [
              "HBox(children=(FloatProgress(value=0.0, max=87306240.0), HTML(value='')))"
            ]
          },
          "metadata": {
            "tags": []
          }
        },
        {
          "output_type": "stream",
          "text": [
            "\n"
          ],
          "name": "stdout"
        }
      ]
    },
    {
      "cell_type": "code",
      "metadata": {
        "colab": {
          "base_uri": "https://localhost:8080/"
        },
        "id": "Ixb5sPWUrBCn",
        "outputId": "edecf65b-73b1-4aac-9d8f-795042ad02d4"
      },
      "source": [
        "for epoch in range(25):\r\n",
        "    running_loss = 0.0\r\n",
        "    for i, data in enumerate(train_loader, 0):\r\n",
        "        inputs, labels = data\r\n",
        "        inputs = inputs.to(device)\r\n",
        "        labels = labels.to(device)\r\n",
        "        \r\n",
        "        optimizer.zero_grad()\r\n",
        "        \r\n",
        "        outputs = model(inputs)\r\n",
        "        loss = criterion(outputs, labels)\r\n",
        "        loss.backward()\r\n",
        "        optimizer.step()\r\n",
        "        \r\n",
        "        running_loss += loss.item()\r\n",
        "    print(running_loss)\r\n",
        "print('Finished Training')"
      ],
      "execution_count": 11,
      "outputs": [
        {
          "output_type": "stream",
          "text": [
            "43.86359679698944\n",
            "14.71680250018835\n",
            "8.950152307748795\n",
            "5.922672763466835\n",
            "3.6850313586182892\n",
            "2.965075606945902\n",
            "1.7780593940988183\n",
            "1.5027072185184807\n",
            "1.1597185565624386\n",
            "0.8459855736000463\n",
            "0.8460624612635002\n",
            "0.8523797641973943\n",
            "0.5364238606998697\n",
            "0.46713090571574867\n",
            "0.37495383265195414\n",
            "0.5050561217940412\n",
            "0.42775590607197955\n",
            "0.30586355667037424\n",
            "0.26296526310034096\n",
            "0.2381653346819803\n",
            "0.174938128242502\n",
            "0.2766949817305431\n",
            "0.3255910008447245\n",
            "0.38128931206301786\n",
            "0.23087945465522353\n",
            "Finished Training\n"
          ],
          "name": "stdout"
        }
      ]
    },
    {
      "cell_type": "code",
      "metadata": {
        "colab": {
          "base_uri": "https://localhost:8080/"
        },
        "id": "PXxYt10arJtG",
        "outputId": "eddea62a-934e-49c8-fec1-e9c4edf6911d"
      },
      "source": [
        "class_correct = list(0. for i in range(5))\r\n",
        "class_total = list(0. for i in range(5))\r\n",
        "with torch.no_grad():\r\n",
        "    for i, data in enumerate(val_loader, 0):\r\n",
        "            inputs, labels = data\r\n",
        "            inputs = inputs.to(device)\r\n",
        "            labels = labels.to(device)\r\n",
        "            outputs = model(inputs)\r\n",
        "            _, predicted = torch.max(outputs, 1)\r\n",
        "            c = (predicted == labels).squeeze()\r\n",
        "            for i in range(5):\r\n",
        "                label = labels[i]\r\n",
        "                class_correct[label] += c[i].item()\r\n",
        "                class_total[label] += 1\r\n",
        "for i in range(5):\r\n",
        "    print('Accuracy of %5s : %2d %%' % (\r\n",
        "        classes[i], 100 * class_correct[i] / class_total[i]))"
      ],
      "execution_count": 14,
      "outputs": [
        {
          "output_type": "stream",
          "text": [
            "Accuracy of metaplastic : 96 %\n",
            "Accuracy of parabasal : 80 %\n",
            "Accuracy of kolicytic : 95 %\n",
            "Accuracy of superficial : 100 %\n",
            "Accuracy of dyskeratotic : 100 %\n"
          ],
          "name": "stdout"
        }
      ]
    },
    {
      "cell_type": "code",
      "metadata": {
        "colab": {
          "base_uri": "https://localhost:8080/"
        },
        "id": "AvYo1RzT06gX",
        "outputId": "42d01e4e-c7c7-4054-c948-d1fdaaf18787"
      },
      "source": [
        "class_correct = list(0. for i in range(5))\r\n",
        "class_total = list(0. for i in range(5))\r\n",
        "with torch.no_grad():\r\n",
        "    for i, data in enumerate(testloader, 0):\r\n",
        "            inputs, labels = data\r\n",
        "            inputs = inputs.to(device)\r\n",
        "            labels = labels.to(device)\r\n",
        "            outputs = model(inputs)\r\n",
        "            _, predicted = torch.max(outputs, 1)\r\n",
        "            c = (predicted == labels).squeeze()\r\n",
        "            for i in range(5):\r\n",
        "                label = labels[i]\r\n",
        "                class_correct[label] += c[i].item()\r\n",
        "                class_total[label] += 1\r\n",
        "for i in range(5):\r\n",
        "    print('Accuracy of %5s : %2d %%' % (\r\n",
        "        classes[i], 100 * class_correct[i] / class_total[i]))"
      ],
      "execution_count": 15,
      "outputs": [
        {
          "output_type": "stream",
          "text": [
            "Accuracy of metaplastic : 90 %\n",
            "Accuracy of parabasal : 100 %\n",
            "Accuracy of kolicytic : 100 %\n",
            "Accuracy of superficial : 95 %\n",
            "Accuracy of dyskeratotic : 100 %\n"
          ],
          "name": "stdout"
        }
      ]
    },
    {
      "cell_type": "code",
      "metadata": {
        "id": "Js0nFZGHc6DM"
      },
      "source": [
        ""
      ],
      "execution_count": null,
      "outputs": []
    }
  ]
}